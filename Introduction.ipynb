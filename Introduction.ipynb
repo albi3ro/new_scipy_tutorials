{
 "cells": [
  {
   "cell_type": "markdown",
   "metadata": {},
   "source": [
    "# Introduction\n",
    "\n",
    "## What is SciPy\n",
    "\n",
    "SciPy is an open source Python library for scientific computing."
   ]
  },
  {
   "cell_type": "markdown",
   "metadata": {},
   "source": [
    "## The Subpackges\n",
    "\n",
    "SciPy is composed of 15 different subpackages:\n",
    "\n",
    "* cluster\n",
    "* constants\n",
    "* fftpack\n",
    "* integrate\n",
    "* interpolate\n",
    "* io\n",
    "* linalg\n",
    "* ndimage\n",
    "* odr\n",
    "* optimize\n",
    "* signal\n",
    "* sparse\n",
    "* spatial\n",
    "* special\n",
    "* stats\n",
    "\n",
    "These subpackages serve different purposes and need to be imported seperately, as "
   ]
  },
  {
   "cell_type": "code",
   "execution_count": 2,
   "metadata": {},
   "outputs": [],
   "source": [
    "from scipy import constants"
   ]
  },
  {
   "cell_type": "markdown",
   "metadata": {},
   "source": [
    "Then their contents can be accessed as "
   ]
  },
  {
   "cell_type": "code",
   "execution_count": 3,
   "metadata": {},
   "outputs": [
    {
     "data": {
      "text/plain": [
       "1.618033988749895"
      ]
     },
     "execution_count": 3,
     "metadata": {},
     "output_type": "execute_result"
    }
   ],
   "source": [
    "constants.golden"
   ]
  },
  {
   "cell_type": "markdown",
   "metadata": {},
   "source": [
    "While the overarching SciPy package can be imported on its own and contains some commonly used functionality, everything is replicated in NumPy or specific subpackages."
   ]
  },
  {
   "cell_type": "markdown",
   "metadata": {},
   "source": [
    "## NumPy and Matplotlib for SciPy\n",
    "\n",
    "mgrid\n",
    "\n",
    "ogrid\n",
    "\n",
    "r_\n",
    "\n",
    "c_\n",
    "\n",
    "polynomials\n",
    "\n",
    "vectorize"
   ]
  },
  {
   "cell_type": "code",
   "execution_count": 5,
   "metadata": {},
   "outputs": [],
   "source": [
    "import numpy as np"
   ]
  },
  {
   "cell_type": "code",
   "execution_count": 6,
   "metadata": {},
   "outputs": [
    {
     "data": {
      "text/plain": [
       "array([0, 2, 4, 6, 8])"
      ]
     },
     "execution_count": 6,
     "metadata": {},
     "output_type": "execute_result"
    }
   ],
   "source": [
    "start=0\n",
    "stop=10\n",
    "step=2\n",
    "\n",
    "np.arange(start,stop,step)"
   ]
  },
  {
   "cell_type": "code",
   "execution_count": 8,
   "metadata": {},
   "outputs": [
    {
     "data": {
      "text/plain": [
       "array([ 0.,  1.,  2.,  3.,  4.,  5.,  6.,  7.,  8.,  9., 10.])"
      ]
     },
     "execution_count": 8,
     "metadata": {},
     "output_type": "execute_result"
    }
   ],
   "source": [
    "N=11\n",
    "\n",
    "np.linspace(start,stop,N)"
   ]
  },
  {
   "cell_type": "markdown",
   "metadata": {},
   "source": [
    "## General Scientific Computing Wisdom\n",
    "\n",
    "#### Don't Trust Code\n",
    "\n",
    "Routines are not infallible black boxes.  Pair code with physical intuition, analytical calculations, experimental data, or any other variety of techniques to validate whether or not a computer's result is resonable.  Can you calculate the limits? Should the function have symmetries? \n",
    "\n",
    "#### Understand the algorithm being called\n",
    "\n",
    "SciPy provides access to a wide variety of numerical routines, but these are not one-size-fits-all golden hammers that can automatically solve every problem.  Sometimes things can go wrong.  For those cases, it help to understand what the routines are actually <i>doing</i>.  \n",
    "\n",
    "#### Developer time is often more valuable than computer time\n",
    "\n",
    "SciPy exists so that you don't have to write and optimize everything yourself.  "
   ]
  },
  {
   "cell_type": "markdown",
   "metadata": {},
   "source": [
    "## More Advanced Common Themes\n",
    "\n",
    "#### Data Types\n",
    "\n",
    "\n",
    "#### Iteration Counts\n",
    "\n",
    "#### Tolerance\n",
    "\n",
    "####"
   ]
  }
 ],
 "metadata": {
  "kernelspec": {
   "display_name": "Python 3",
   "language": "python",
   "name": "python3"
  },
  "language_info": {
   "codemirror_mode": {
    "name": "ipython",
    "version": 3
   },
   "file_extension": ".py",
   "mimetype": "text/x-python",
   "name": "python",
   "nbconvert_exporter": "python",
   "pygments_lexer": "ipython3",
   "version": "3.7.4"
  }
 },
 "nbformat": 4,
 "nbformat_minor": 4
}
