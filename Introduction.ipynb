{
 "cells": [
  {
   "cell_type": "markdown",
   "metadata": {},
   "source": [
    "# Introduction\n",
    "\n",
    "## What is SciPy"
   ]
  },
  {
   "cell_type": "markdown",
   "metadata": {},
   "source": [
    "## General Scientific Computing Wisdom\n",
    "\n",
    "#### Don't Trust Code\n",
    "\n",
    "Routines are not infallible black boxes.  Pair code with physical intuition, analytical calculations, experimental data, or any other variety of techniques to validate whether or not a computer's result is resonable.  Can you calculate the limits? Should the function have symmetries? \n",
    "\n",
    "#### Understand the algorithm being called\n",
    "\n",
    "SciPy provides access to a wide variety of numerical routines, but these are not one-size-fits-all golden hammers that can automatically solve every problem.  Sometimes things can go wrong.  For those cases, it help to understand what the routines are actually <i>doing</i>.  \n",
    "\n",
    "#### Developer time is often more valuable than computer time\n",
    "\n",
    "SciPy exists so that you don't have to write and optimize everything yourself.  "
   ]
  },
  {
   "cell_type": "markdown",
   "metadata": {},
   "source": [
    "## NumPy and Matplotlib for SciPy"
   ]
  },
  {
   "cell_type": "code",
   "execution_count": 1,
   "metadata": {},
   "outputs": [],
   "source": [
    "import numpy as np"
   ]
  },
  {
   "cell_type": "code",
   "execution_count": 2,
   "metadata": {},
   "outputs": [
    {
     "data": {
      "text/plain": [
       "array([0, 2, 4, 6, 8])"
      ]
     },
     "execution_count": 2,
     "metadata": {},
     "output_type": "execute_result"
    }
   ],
   "source": [
    "start=0\n",
    "stop=10\n",
    "step=2\n",
    "\n",
    "np.arange(start,stop,step)"
   ]
  },
  {
   "cell_type": "code",
   "execution_count": null,
   "metadata": {},
   "outputs": [],
   "source": []
  }
 ],
 "metadata": {
  "kernelspec": {
   "display_name": "Python 3",
   "language": "python",
   "name": "python3"
  },
  "language_info": {
   "codemirror_mode": {
    "name": "ipython",
    "version": 3
   },
   "file_extension": ".py",
   "mimetype": "text/x-python",
   "name": "python",
   "nbconvert_exporter": "python",
   "pygments_lexer": "ipython3",
   "version": "3.7.4"
  }
 },
 "nbformat": 4,
 "nbformat_minor": 4
}
