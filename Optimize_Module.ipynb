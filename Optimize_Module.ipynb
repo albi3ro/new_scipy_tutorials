{
 "cells": [
  {
   "cell_type": "markdown",
   "metadata": {},
   "source": [
    "# Optimize Module\n",
    "\n",
    "* [1D Optimization](./Optimization_1D.ipynb)\n",
    "* [ND Optimization](./Optimization_ND.ipynb)\n",
    "* [Global Optimization](./Optimization_Global.ipynb)\n",
    "* [1D Roots](./Roots_1D.ipynb)\n",
    "* [ND Roots](./Roots_ND.ipynb)\n",
    "* [Curve Fitting](./Curve_Fit.ipynb)\n"
   ]
  },
  {
   "cell_type": "code",
   "execution_count": 2,
   "metadata": {},
   "outputs": [],
   "source": [
    "from scipy import optimize"
   ]
  },
  {
   "cell_type": "markdown",
   "metadata": {},
   "source": [
    "## Common Traits in the Submodule"
   ]
  },
  {
   "cell_type": "markdown",
   "metadata": {},
   "source": [
    "## Output: `OptimizeResult`\n",
    "\n",
    "Many functions return an object that can contain more information than simply \"This is the minimium\".  The information varies between function, method used by the function, and flags given to function, but the way of accessing the data remains the same.  \n",
    "\n",
    "Let's create one of these data types via minimization to look at it:"
   ]
  },
  {
   "cell_type": "code",
   "execution_count": 5,
   "metadata": {},
   "outputs": [
    {
     "data": {
      "text/plain": [
       "scipy.optimize.optimize.OptimizeResult"
      ]
     },
     "execution_count": 5,
     "metadata": {},
     "output_type": "execute_result"
    }
   ],
   "source": [
    "f = lambda x : x**2\n",
    "\n",
    "result=optimize.minimize(f,[2],method=\"BFGS\")"
   ]
  },
  {
   "cell_type": "markdown",
   "metadata": {},
   "source": [
    "You can determine what data types are availible via "
   ]
  },
  {
   "cell_type": "code",
   "execution_count": 6,
   "metadata": {},
   "outputs": [
    {
     "data": {
      "text/plain": [
       "dict_keys(['fun', 'jac', 'hess_inv', 'nfev', 'njev', 'status', 'success', 'message', 'x', 'nit'])"
      ]
     },
     "execution_count": 6,
     "metadata": {},
     "output_type": "execute_result"
    }
   ],
   "source": [
    "result.keys()"
   ]
  },
  {
   "cell_type": "markdown",
   "metadata": {},
   "source": [
    "And you can access individual values via:"
   ]
  },
  {
   "cell_type": "code",
   "execution_count": 7,
   "metadata": {},
   "outputs": [
    {
     "data": {
      "text/plain": [
       "array([-1.88846401e-08])"
      ]
     },
     "execution_count": 7,
     "metadata": {},
     "output_type": "execute_result"
    }
   ],
   "source": [
    "result.x"
   ]
  },
  {
   "cell_type": "markdown",
   "metadata": {},
   "source": [
    "Inspecting the object with `?` or `??` can tell you more about what the individual components actually are.\n",
    "\n",
    "In Jupyter notebooks, Contextual Help, `Ctrl+I` can also provide this information."
   ]
  },
  {
   "cell_type": "code",
   "execution_count": 10,
   "metadata": {},
   "outputs": [
    {
     "data": {
      "text/plain": [
       "\u001b[0;31mType:\u001b[0m        OptimizeResult\n",
       "\u001b[0;31mString form:\u001b[0m\n",
       "fun: 3.5662963072207506e-16\n",
       "           hess_inv: array([[0.5]])\n",
       "           jac: array([-2.2868119e-08])\n",
       "           <...> fev: 9\n",
       "           nit: 2\n",
       "           njev: 3\n",
       "           status: 0\n",
       "           success: True\n",
       "           x: array([-1.88846401e-08])\n",
       "\u001b[0;31mLength:\u001b[0m      10\n",
       "\u001b[0;31mFile:\u001b[0m        ~/anaconda3/lib/python3.7/site-packages/scipy/optimize/optimize.py\n",
       "\u001b[0;31mDocstring:\u001b[0m  \n",
       "Represents the optimization result.\n",
       "\n",
       "Attributes\n",
       "----------\n",
       "x : ndarray\n",
       "    The solution of the optimization.\n",
       "success : bool\n",
       "    Whether or not the optimizer exited successfully.\n",
       "status : int\n",
       "    Termination status of the optimizer. Its value depends on the\n",
       "    underlying solver. Refer to `message` for details.\n",
       "message : str\n",
       "    Description of the cause of the termination.\n",
       "fun, jac, hess: ndarray\n",
       "    Values of objective function, its Jacobian and its Hessian (if\n",
       "    available). The Hessians may be approximations, see the documentation\n",
       "    of the function in question.\n",
       "hess_inv : object\n",
       "    Inverse of the objective function's Hessian; may be an approximation.\n",
       "    Not available for all solvers. The type of this attribute may be\n",
       "    either np.ndarray or scipy.sparse.linalg.LinearOperator.\n",
       "nfev, njev, nhev : int\n",
       "    Number of evaluations of the objective functions and of its\n",
       "    Jacobian and Hessian.\n",
       "nit : int\n",
       "    Number of iterations performed by the optimizer.\n",
       "maxcv : float\n",
       "    The maximum constraint violation.\n",
       "\n",
       "Notes\n",
       "-----\n",
       "There may be additional attributes not listed above depending of the\n",
       "specific solver. Since this class is essentially a subclass of dict\n",
       "with attribute accessors, one can see which attributes are available\n",
       "using the `keys()` method.\n"
      ]
     },
     "metadata": {},
     "output_type": "display_data"
    }
   ],
   "source": [
    "? result"
   ]
  },
  {
   "cell_type": "markdown",
   "metadata": {},
   "source": [
    "### `args`\n",
    "\n",
    "Many routines allow function parameters in a <b>tuple</b> to be passed to the routine via the `args` flag:"
   ]
  },
  {
   "cell_type": "code",
   "execution_count": 6,
   "metadata": {},
   "outputs": [
    {
     "data": {
      "text/plain": [
       "      fun: 5.5507662238258444e-17\n",
       " hess_inv: array([[0.5]])\n",
       "      jac: array([4.68181046e-13])\n",
       "  message: 'Optimization terminated successfully.'\n",
       "     nfev: 9\n",
       "      nit: 2\n",
       "     njev: 3\n",
       "   status: 0\n",
       "  success: True\n",
       "        x: array([0.99999999])"
      ]
     },
     "execution_count": 6,
     "metadata": {},
     "output_type": "execute_result"
    }
   ],
   "source": [
    "f_parameter = lambda x,a : (x-a)**2\n",
    "\n",
    "optimize.minimize(f_parameter,[0],args=(1,))"
   ]
  },
  {
   "cell_type": "markdown",
   "metadata": {},
   "source": [
    "### Methods\n",
    "\n",
    "The functions in `scipy.optimize` are uniform wrappers that can call to multiple different methods behind the scenes.  For example, `minimize_scalar` can use Brent, Golden, or Bounded methods.  Methods can have different strengths, weaknesses, and pitfalls.  SciPy will automatically choose certain routines given inputted information, but if you know more about the problem, a different routine might be better.\n",
    "\n",
    "An example of choosing the routine:"
   ]
  },
  {
   "cell_type": "code",
   "execution_count": 7,
   "metadata": {},
   "outputs": [
    {
     "data": {
      "text/plain": [
       "      fun: 3.5662963072207506e-16\n",
       " hess_inv: array([[0.5]])\n",
       "      jac: array([-2.2868119e-08])\n",
       "  message: 'Optimization terminated successfully.'\n",
       "     nfev: 9\n",
       "      nit: 2\n",
       "     njev: 3\n",
       "   status: 0\n",
       "  success: True\n",
       "        x: array([-1.88846401e-08])"
      ]
     },
     "execution_count": 7,
     "metadata": {},
     "output_type": "execute_result"
    }
   ],
   "source": [
    "f = lambda x : x**2\n",
    "\n",
    "optimize.minimize(f,[2],method=\"BFGS\")"
   ]
  },
  {
   "cell_type": "markdown",
   "metadata": {},
   "source": [
    "## Tolerance and Iterations\n",
    "\n",
    "How much computer time do you want to spend on this problem? How accurate do you need your answer? Is your function really expensive to calculate?\n",
    "\n",
    "When the two successive values are within the tolerance range of each other or the routine has reached the maximum number of iterations, the routine will exit.  Some functions differentiate between <b>relative tolerance</b> and absolute tolerance</b>.  Relative tolerance scales for the aboslute size of the values.  For example, if two steps are five apart, but each about a trillion, the function can exit.\n",
    "\n",
    "Whether these quantities exist, and the procedure for setting these quantities varies between functions.  Check individual documentation for details, but here is one example:"
   ]
  },
  {
   "cell_type": "code",
   "execution_count": 9,
   "metadata": {},
   "outputs": [
    {
     "data": {
      "text/plain": [
       "      fun: 5.55111515902901e-17\n",
       " hess_inv: array([[0.5]])\n",
       "      jac: array([-4.81884952e-17])\n",
       "  message: 'Optimization terminated successfully.'\n",
       "     nfev: 12\n",
       "      nit: 3\n",
       "     njev: 4\n",
       "   status: 0\n",
       "  success: True\n",
       "        x: array([-7.45058062e-09])"
      ]
     },
     "execution_count": 9,
     "metadata": {},
     "output_type": "execute_result"
    }
   ],
   "source": [
    "optimize.minimize(f,[2],tol=1e-10,options={\"maxiter\":10})"
   ]
  },
  {
   "cell_type": "markdown",
   "metadata": {},
   "source": [
    "## Getting Help and `scipy.optimize.show_options`"
   ]
  },
  {
   "cell_type": "code",
   "execution_count": 3,
   "metadata": {},
   "outputs": [
    {
     "name": "stdout",
     "output_type": "stream",
     "text": [
      "\n",
      "\n",
      "brent\n",
      "=====\n",
      "\n",
      "Options\n",
      "-------\n",
      "maxiter : int\n",
      "    Maximum number of iterations to perform.\n",
      "xtol : float\n",
      "    Relative error in solution `xopt` acceptable for convergence.\n",
      "\n",
      "Notes\n",
      "-----\n",
      "Uses inverse parabolic interpolation when possible to speed up\n",
      "convergence of golden section method.\n",
      "\n",
      "bounded\n",
      "=======\n",
      "\n",
      "Options\n",
      "-------\n",
      "maxiter : int\n",
      "    Maximum number of iterations to perform.\n",
      "disp: int, optional\n",
      "    If non-zero, print messages.\n",
      "        0 : no message printing.\n",
      "        1 : non-convergence notification messages only.\n",
      "        2 : print a message on convergence too.\n",
      "        3 : print iteration results.\n",
      "xatol : float\n",
      "    Absolute error in solution `xopt` acceptable for convergence.\n",
      "\n",
      "golden\n",
      "======\n",
      "\n",
      "Options\n",
      "-------\n",
      "maxiter : int\n",
      "    Maximum number of iterations to perform.\n",
      "xtol : float\n",
      "    Relative error in solution `xopt` acceptable for convergence.\n"
     ]
    }
   ],
   "source": [
    "optimize.show_options(solver=\"minimize_scalar\")"
   ]
  },
  {
   "cell_type": "code",
   "execution_count": null,
   "metadata": {},
   "outputs": [],
   "source": []
  }
 ],
 "metadata": {
  "kernelspec": {
   "display_name": "Python 3",
   "language": "python",
   "name": "python3"
  },
  "language_info": {
   "codemirror_mode": {
    "name": "ipython",
    "version": 3
   },
   "file_extension": ".py",
   "mimetype": "text/x-python",
   "name": "python",
   "nbconvert_exporter": "python",
   "pygments_lexer": "ipython3",
   "version": "3.7.4"
  }
 },
 "nbformat": 4,
 "nbformat_minor": 4
}
