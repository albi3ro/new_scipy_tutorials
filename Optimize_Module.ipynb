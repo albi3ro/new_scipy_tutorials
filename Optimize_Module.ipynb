{
 "cells": [
  {
   "cell_type": "markdown",
   "metadata": {},
   "source": [
    "# Optimize Module\n",
    "\n",
    "* [1D Optimization](./Optimization_1D.ipynb)\n",
    "* [ND Optimization](./Optimization_ND.ipynb)\n",
    "* [Global Optimization](./Optimization_Global.ipynb)\n",
    "* [1D Roots](./Roots_1D.ipynb)\n",
    "* [ND Roots](./Roots_ND.ipynb)\n",
    "* [Curve Fitting](./Curve_Fit.ipynb)\n"
   ]
  },
  {
   "cell_type": "code",
   "execution_count": null,
   "metadata": {},
   "outputs": [],
   "source": []
  }
 ],
 "metadata": {
  "kernelspec": {
   "display_name": "Python 3",
   "language": "python",
   "name": "python3"
  },
  "language_info": {
   "codemirror_mode": {
    "name": "ipython",
    "version": 3
   },
   "file_extension": ".py",
   "mimetype": "text/x-python",
   "name": "python",
   "nbconvert_exporter": "python",
   "pygments_lexer": "ipython3",
   "version": "3.7.4"
  }
 },
 "nbformat": 4,
 "nbformat_minor": 4
}
