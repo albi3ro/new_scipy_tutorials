{
 "cells": [
  {
   "cell_type": "markdown",
   "metadata": {},
   "source": [
    "# SciPy Optimize root_scalar\n",
    "`scipy.optimize.root_scalar` is a routine to to solve the problem\n",
    "$$\n",
    "f(x)=0 \\qquad x \\in \\mathbb{R}.\n",
    "$$\n",
    "This problem is also known as determining the roots or zeros of the function.  The routine in particular applies to one dimensional, scalar valued functions.  See `scipy.optimize.root` for a multidimensional generalization."
   ]
  },
  {
   "cell_type": "code",
   "execution_count": 2,
   "metadata": {},
   "outputs": [],
   "source": [
    "# Importing the packages for the example\n",
    "import numpy as np\n",
    "from scipy import optimize\n",
    "import matplotlib.pyplot as plt"
   ]
  },
  {
   "cell_type": "markdown",
   "metadata": {},
   "source": [
    "We need to define a function for testing the algorithm. To demonstrate two different types of zeros (normal and a multiplicity two zero), I use the function\n",
    "$$\n",
    "f(x) = x \\sin(x).\n",
    "$$\n",
    "At $x=0$, this function hits zero but does not cross the axis. Bracket-type methods, explained below, need the function evaluated at both positive and negative values and, therefore, fail on even multiplicity zeros like $x=0$.\n",
    "\n",
    "Some methods can use the derivative, or even second derivative, so I am defining those quantities here as well."
   ]
  },
  {
   "cell_type": "code",
   "execution_count": 3,
   "metadata": {},
   "outputs": [
    {
     "data": {
      "text/plain": [
       "[<matplotlib.lines.Line2D at 0x7f8a45939150>]"
      ]
     },
     "execution_count": 3,
     "metadata": {},
     "output_type": "execute_result"
    },
    {
     "data": {
      "image/png": "[encoded data removed]",
      "text/plain": [
       "<Figure size 432x288 with 1 Axes>"
      ]
     },
     "metadata": {
      "needs_background": "light"
     },
     "output_type": "display_data"
    }
   ],
   "source": [
    "f = lambda x : x*np.sin(x)\n",
    "\n",
    "fp = lambda x : np.sin(x) + x * np.cos(x)\n",
    "\n",
    "fp2 = lambda x : 2*np.cos(x) - np.sin(x)\n",
    "\n",
    "x=np.arange(-3,4,.01)\n",
    "plt.hlines(0,-3,4)\n",
    "plt.plot(x,f(x)) "
   ]
  },
  {
   "cell_type": "markdown",
   "metadata": {},
   "source": [
    "### Calling the function: Methods and Initial Information\n",
    "\n",
    "`root_scalar` is a <i>wrapper</i> to a variety of different methods beneath the hood.  Different methods require different initial information for locating a zero.\n",
    "\n",
    "Bracket-type methods require a bracket of `[a,b]` where `f(a)` and `f(b)` have different signs. These methods would fail for zeros of even multiplicity where the function touches but does not cross the axis.\n",
    "\n",
    "For the simplest call, this would look like:"
   ]
  },
  {
   "cell_type": "code",
   "execution_count": 33,
   "metadata": {},
   "outputs": [
    {
     "name": "stdout",
     "output_type": "stream",
     "text": [
      "      converged: True\n",
      "           flag: 'converged'\n",
      " function_calls: 10\n",
      "     iterations: 9\n",
      "           root: 3.141592653589795\n"
     ]
    }
   ],
   "source": [
    "result = optimize.root_scalar(f,bracket=[2,4])  # check f(2)*f(4) = -1\n",
    "print(result)"
   ]
  },
  {
   "cell_type": "markdown",
   "metadata": {},
   "source": [
    "Bracket methods include:\n",
    "* bisect\n",
    "* brentq\n",
    "* brenth\n",
    "* ridder\n",
    "* toms748\n",
    "\n",
    "Bisect is the simplest conceptually and easiest to code, while methods like Brent's method or the newer toms748 use quadratic interpolation for speedup.  \n",
    "\n",
    "We can specify which of these we want in particular using the `method` flag:"
   ]
  },
  {
   "cell_type": "code",
   "execution_count": 31,
   "metadata": {},
   "outputs": [
    {
     "name": "stdout",
     "output_type": "stream",
     "text": [
      "      converged: True\n",
      "           flag: 'converged'\n",
      " function_calls: 42\n",
      "     iterations: 40\n",
      "           root: 3.1415926535901235\n"
     ]
    }
   ],
   "source": [
    "result_ridder=optimize.root_scalar(f,bracket=[2,4],method=\"bisect\")\n",
    "print(result_ridder)"
   ]
  },
  {
   "cell_type": "markdown",
   "metadata": {},
   "source": [
    "Householder method's use some sort of derivative instead. The given information completely specifies the method, but you could specify the method using the `method` flag as well.\n",
    "\n",
    "| Method | Points | First Deriative | Second Derivative |\n",
    "| --- | --- |--- | --- |\n",
    "| Secant | 2 |  | |\n",
    "| Newtons | 1 | Y |  |\n",
    "| Halley's | 1 | Y | Y |"
   ]
  },
  {
   "cell_type": "code",
   "execution_count": 32,
   "metadata": {},
   "outputs": [
    {
     "name": "stdout",
     "output_type": "stream",
     "text": [
      "      converged: True\n",
      "           flag: 'converged'\n",
      " function_calls: 35\n",
      "     iterations: 34\n",
      "           root: 2.198829611671715e-08\n"
     ]
    }
   ],
   "source": [
    "result_secant = optimize.root_scalar(f,x0=1,x1=2)\n",
    "print(result_secant)"
   ]
  },
  {
   "cell_type": "code",
   "execution_count": 34,
   "metadata": {},
   "outputs": [
    {
     "name": "stdout",
     "output_type": "stream",
     "text": [
      "      converged: True\n",
      "           flag: 'converged'\n",
      " function_calls: 52\n",
      "     iterations: 26\n",
      "           root: 1.125384604853057e-08\n"
     ]
    }
   ],
   "source": [
    "result_newtons = optimize.root_scalar(f,fprime=fp,x0=1)\n",
    "print(result_newtons)"
   ]
  },
  {
   "cell_type": "code",
   "execution_count": 35,
   "metadata": {},
   "outputs": [
    {
     "name": "stdout",
     "output_type": "stream",
     "text": [
      "      converged: True\n",
      "           flag: 'converged'\n",
      " function_calls: 54\n",
      "     iterations: 18\n",
      "           root: 3.1514718354536172e-09\n"
     ]
    }
   ],
   "source": [
    "result_halleys = optimize.root_scalar(f,x0=1,fprime=fp,fprime2=fp2)\n",
    "print(result_halleys)"
   ]
  },
  {
   "cell_type": "markdown",
   "metadata": {},
   "source": [
    "## Return Object\n",
    "\n",
    "`root_scalar` returns a `RootResults` object based on a dictionary.  Individual attirbutes in the dictionary can be accessed like:"
   ]
  },
  {
   "cell_type": "code",
   "execution_count": 13,
   "metadata": {},
   "outputs": [
    {
     "data": {
      "text/plain": [
       "3.141592653589795"
      ]
     },
     "execution_count": 13,
     "metadata": {},
     "output_type": "execute_result"
    }
   ],
   "source": [
    "result1.root"
   ]
  },
  {
   "cell_type": "markdown",
   "metadata": {},
   "source": [
    "## `args` and function parameters\n",
    "\n",
    "If our function takes in a parameter, then we can pass it to the `root_scalar` algorithm in a tuple using the flag `args`."
   ]
  },
  {
   "cell_type": "code",
   "execution_count": 26,
   "metadata": {},
   "outputs": [
    {
     "name": "stdout",
     "output_type": "stream",
     "text": [
      "1.0\n"
     ]
    }
   ],
   "source": [
    "f_parameter = lambda x, a : x-a\n",
    "\n",
    "result_args = optimize.root_scalar(f_parameter,bracket=[0,2], args=(1,))\n",
    "print(result_args.root)"
   ]
  },
  {
   "cell_type": "markdown",
   "metadata": {},
   "source": [
    "## Tolerance and Max Iterations\n",
    "\n",
    "How much computer time do you want to spend on this problem? How accurate do you need your answer? Is your function really expensive to calculate?\n",
    "\n",
    "If you want more control over these aspects of your problem, you can use \n",
    "* `xtol`: The absolute tolerance for termination\n",
    "* `rtol`: the relative tolerance for termination\n",
    "* `maxiter`: the maximum number of iteration\n",
    "\n",
    "When the two successive values are within the tolerance range of each other or the routine has reached the maximum number of iterations, the routine will exit.  Relative tolerance is scaled by the size of the current values. For example, if two successive values are 5 apart, but both a trillion, the routine can exit.\n",
    "\n",
    "Let's try setting a `maxiter` that is way too low:"
   ]
  },
  {
   "cell_type": "code",
   "execution_count": 37,
   "metadata": {},
   "outputs": [
    {
     "name": "stdout",
     "output_type": "stream",
     "text": [
      "      converged: False\n",
      "           flag: 'convergence error'\n",
      " function_calls: 5\n",
      "     iterations: 3\n",
      "           root: 0.06388659504879228\n"
     ]
    }
   ],
   "source": [
    "result_maxiter = optimize.root_scalar(f,x0=1,x1=2,maxiter=3)\n",
    "print(result_maxiter)"
   ]
  },
  {
   "cell_type": "markdown",
   "metadata": {},
   "source": [
    "In this situation we get a `'convergence error'`.  If you get that, you need to increase the number of iterations, choose a better starting point, or otherwise tune the optimization.\n",
    "\n",
    "Let's set the absolute and relative tolerances:"
   ]
  },
  {
   "cell_type": "code",
   "execution_count": 50,
   "metadata": {},
   "outputs": [
    {
     "name": "stdout",
     "output_type": "stream",
     "text": [
      "      converged: True\n",
      "           flag: 'converged'\n",
      " function_calls: 46\n",
      "     iterations: 45\n",
      "           root: 1.104911602953554e-10\n"
     ]
    }
   ],
   "source": [
    "result_xtol = optimize.root_scalar(f,x0=1,x1=2,xtol=1e-10,rtol=1e-10)\n",
    "print(result_xtol)"
   ]
  },
  {
   "cell_type": "code",
   "execution_count": null,
   "metadata": {},
   "outputs": [],
   "source": []
  }
 ],
 "metadata": {
  "kernelspec": {
   "display_name": "Python 3",
   "language": "python",
   "name": "python3"
  },
  "language_info": {
   "codemirror_mode": {
    "name": "ipython",
    "version": 3
   },
   "file_extension": ".py",
   "mimetype": "text/x-python",
   "name": "python",
   "nbconvert_exporter": "python",
   "pygments_lexer": "ipython3",
   "version": "3.7.4"
  }
 },
 "nbformat": 4,
 "nbformat_minor": 4
}
