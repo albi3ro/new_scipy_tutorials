{
 "cells": [
  {
   "cell_type": "markdown",
   "metadata": {},
   "source": [
    "# Linear Programming \n",
    "\n",
    "$$\n",
    "f(x) = \\vec{c} \\cdot \\vec{x} = c_0 x_0 + c_1 x_1 + ...\n",
    "$$ \n",
    "If we had to minimize a linear function by itself, the minimum would simply be off at some sort of infinity.  Linear Programming problems are often accompianied by many boundaries and inequalities."
   ]
  },
  {
   "cell_type": "code",
   "execution_count": 2,
   "metadata": {},
   "outputs": [],
   "source": [
    "import numpy as np\n",
    "from scipy import optimize\n",
    "import matplotlib.pyplot as plt"
   ]
  },
  {
   "cell_type": "markdown",
   "metadata": {},
   "source": [
    "`linprog` only needs the vector `c`, but for plotting purposes, I create a function version as well.  There are a variety of different \"dot-product\" like functions in numpy, but `tensordot` in this way can handle all the plotting data at once."
   ]
  },
  {
   "cell_type": "code",
   "execution_count": 59,
   "metadata": {},
   "outputs": [],
   "source": [
    "c = [1,-2]\n",
    "\n",
    "f = lambda x, c : np.tensordot(c,x,axes=(0,0))"
   ]
  },
  {
   "cell_type": "markdown",
   "metadata": {},
   "source": [
    "## Bounds\n",
    "\n",
    "$$\n",
    "\\begin{bmatrix} 0 \\\\ 0 \\end{bmatrix} \\leq\n",
    "\\begin{bmatrix} x_0 \\\\ x_1 \\end{bmatrix} \\leq\n",
    "\\begin{bmatrix} \\infty \\\\ \\infty \\end{bmatrix}\n",
    "$$\n",
    "\n",
    "Bounds can also be written into the inequality constraints."
   ]
  },
  {
   "cell_type": "code",
   "execution_count": 89,
   "metadata": {},
   "outputs": [],
   "source": [
    "min_x0 = 0 \n",
    "max_x0 = np.inf\n",
    "\n",
    "min_x1 = 0\n",
    "max_x1 = np.inf\n",
    "\n",
    "bounds = ((min_x0,max_x0),(min_x1,max_x1))"
   ]
  },
  {
   "cell_type": "markdown",
   "metadata": {},
   "source": [
    "## Inequality\n",
    "\n",
    "$$\n",
    "A_{ub} x \\leq b_{ub}\n",
    "$$\n",
    "$$\n",
    "\\begin{bmatrix}\n",
    "a_{00} & a_{01} \\\\ a_{10} & a_{11} \n",
    "\\end{bmatrix} \\begin{bmatrix}\n",
    "x_0 \\\\ x_1 \\end{bmatrix} \n",
    "\\leq \\begin{bmatrix}\n",
    "b_{0} \\\\ b_{1} \\end{bmatrix}\n",
    "$$\n",
    "\n",
    "$$ \n",
    "x_1 \\leq -\\frac{1}{2} x_0 + 5 \\qquad x_1 \\geq 3 x_0 -10\n",
    "$$ \n",
    "\n",
    "$$\n",
    "\\begin{bmatrix}\n",
    "x_0  + 2 x_1 \\\\ 3 x_0 - x_1 \n",
    "\\end{bmatrix}= \\begin{bmatrix}\n",
    "1 & 2 \\\\ 3 & -1 \n",
    "\\end{bmatrix} \\begin{bmatrix}\n",
    "x_0 \\\\ x_1\n",
    "\\end{bmatrix} \\leq \\begin{bmatrix}\n",
    "10 \\\\ 10 \\end{bmatrix}\n",
    "$$\n",
    "\n",
    "If we were to include the bounds, we could write\n",
    "\n",
    "$$\n",
    "\\begin{bmatrix}\n",
    "x_0  + 2 x_1 \\\\ 3 x_0 - x_1 \\\\ - x_0 \\\\ - x_1 \n",
    "\\end{bmatrix}= \\begin{bmatrix}\n",
    "1 & 2 \\\\ 3 & -1 \\\\ - 1 & 0 \\\\ 0 & -1 \n",
    "\\end{bmatrix} \\begin{bmatrix}\n",
    "x_0 \\\\ x_1\n",
    "\\end{bmatrix} \\leq \\begin{bmatrix}\n",
    "10 \\\\ 10 \\\\ 0 \\\\ 0 \\end{bmatrix}\n",
    "$$"
   ]
  },
  {
   "cell_type": "code",
   "execution_count": 78,
   "metadata": {},
   "outputs": [],
   "source": [
    "A_ub = [[1,2],[3,-1]]\n",
    "b_ub = [10, 10]"
   ]
  },
  {
   "cell_type": "code",
   "execution_count": 80,
   "metadata": {},
   "outputs": [
    {
     "data": {
      "text/plain": [
       "array([ True,  True])"
      ]
     },
     "execution_count": 80,
     "metadata": {},
     "output_type": "execute_result"
    }
   ],
   "source": [
    "np.array(A_ub) @ np.array([1,1]) <= b_ub"
   ]
  },
  {
   "cell_type": "code",
   "execution_count": 4,
   "metadata": {},
   "outputs": [],
   "source": [
    "# Coordinates for plotting\n",
    "x0 = np.arange(-1,5,.01)\n",
    "x1 = np.arange(-1,5,.01)\n",
    "# creating 2D array\n",
    "x0_a, x1_a = np.meshgrid(x0,x1)"
   ]
  },
  {
   "cell_type": "code",
   "execution_count": 76,
   "metadata": {},
   "outputs": [
    {
     "name": "stderr",
     "output_type": "stream",
     "text": [
      "No handles with labels found to put in legend.\n"
     ]
    },
    {
     "data": {
      "text/plain": [
       "Text(0, 0.5, 'x[1]')"
      ]
     },
     "execution_count": 76,
     "metadata": {},
     "output_type": "execute_result"
    },
    {
     "data": {
      "image/png": "[encoded data removed]",
      "text/plain": [
       "<Figure size 432x288 with 2 Axes>"
      ]
     },
     "metadata": {
      "needs_background": "light"
     },
     "output_type": "display_data"
    }
   ],
   "source": [
    "fig, ax = plt.subplots()\n",
    "pos = ax.pcolormesh(x0_a,x1_a,f([x0_a,x1_a],c))\n",
    "\n",
    "ax.fill_betweenx([-1,5],-1,0,color='k')\n",
    "ax.fill_betweenx([-1,0],-1,5,color='k')\n",
    "\n",
    "ax.fill_between(x0,-1/2*x0+5,5)\n",
    "ax.fill_between(x0,3*x0-10,-1)\n",
    "\n",
    "# labeling and measuring necessities\n",
    "ax.set_ylim((-1,5))\n",
    "fig.legend()\n",
    "fig.colorbar(pos,ax=ax)\n",
    "ax.set_title('f(x)')\n",
    "ax.set_xlabel('x[0]')\n",
    "ax.set_ylabel('x[1]')"
   ]
  },
  {
   "cell_type": "code",
   "execution_count": 58,
   "metadata": {},
   "outputs": [
    {
     "data": {
      "text/plain": [
       "(600, 600)"
      ]
     },
     "execution_count": 58,
     "metadata": {},
     "output_type": "execute_result"
    }
   ],
   "source": [
    "np.tensordot(c,[x0_a,x1_a],axes=(0,0)).shape"
   ]
  },
  {
   "cell_type": "code",
   "execution_count": null,
   "metadata": {},
   "outputs": [],
   "source": []
  }
 ],
 "metadata": {
  "kernelspec": {
   "display_name": "Python 3",
   "language": "python",
   "name": "python3"
  },
  "language_info": {
   "codemirror_mode": {
    "name": "ipython",
    "version": 3
   },
   "file_extension": ".py",
   "mimetype": "text/x-python",
   "name": "python",
   "nbconvert_exporter": "python",
   "pygments_lexer": "ipython3",
   "version": "3.7.4"
  }
 },
 "nbformat": 4,
 "nbformat_minor": 4
}
