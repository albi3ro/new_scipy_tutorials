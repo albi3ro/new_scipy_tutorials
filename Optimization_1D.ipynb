{
 "cells": [
  {
   "cell_type": "markdown",
   "metadata": {},
   "source": [
    "# SciPy Minimize\n",
    "\n",
    "## One Dimensional Methods"
   ]
  },
  {
   "cell_type": "code",
   "execution_count": 12,
   "metadata": {},
   "outputs": [],
   "source": [
    "# Importing the packages for the example\n",
    "import numpy as np\n",
    "import scipy.optimize as optimize\n",
    "import matplotlib.pyplot as plt"
   ]
  },
  {
   "cell_type": "code",
   "execution_count": 131,
   "metadata": {},
   "outputs": [
    {
     "data": {
      "text/plain": [
       "[<matplotlib.lines.Line2D at 0x7f35248aa7f0>]"
      ]
     },
     "execution_count": 131,
     "metadata": {},
     "output_type": "execute_result"
    },
    {
     "data": {
      "image/png": "[encoded data removed]",
      "text/plain": [
       "<Figure size 432x288 with 1 Axes>"
      ]
     },
     "metadata": {
      "needs_background": "light"
     },
     "output_type": "display_data"
    }
   ],
   "source": [
    "# An example function with many parameters\n",
    "f = lambda x: ( x**2 + 2* np.sin(2*np.pi*x) )\n",
    "\n",
    "# A function that uses a parameter\n",
    "g = lambda x , a : (x-a)**2  \n",
    "\n",
    "# A function that takes longer to converge\n",
    "h = lambda x : (x**2 - 5*x + 6)/(x**2 + 1)\n",
    "\n",
    "x=np.arange(-3,4,.01)\n",
    "plt.plot(x,f(x)) \n",
    "plt.plot(x,g(x,0))\n",
    "plt.plot(x,h(x))"
   ]
  },
  {
   "cell_type": "markdown",
   "metadata": {},
   "source": [
    "### Basic Usage and Result"
   ]
  },
  {
   "cell_type": "code",
   "execution_count": 56,
   "metadata": {},
   "outputs": [
    {
     "name": "stdout",
     "output_type": "stream",
     "text": [
      "     fun: -1.9390442217474881\n",
      "    nfev: 15\n",
      "     nit: 11\n",
      " success: True\n",
      "       x: -0.24382235612367698\n"
     ]
    }
   ],
   "source": [
    "result=optimize.minimize_scalar(f)\n",
    "print(result)"
   ]
  },
  {
   "cell_type": "markdown",
   "metadata": {},
   "source": [
    "The function returns a special variable type based on a dictionary that can store more information. Individual components can be accessed by:"
   ]
  },
  {
   "cell_type": "code",
   "execution_count": 57,
   "metadata": {},
   "outputs": [
    {
     "data": {
      "text/plain": [
       "-0.24382235612367698"
      ]
     },
     "execution_count": 57,
     "metadata": {},
     "output_type": "execute_result"
    }
   ],
   "source": [
    "result.x"
   ]
  },
  {
   "cell_type": "markdown",
   "metadata": {},
   "source": [
    "Availible components can be determined by calling:"
   ]
  },
  {
   "cell_type": "code",
   "execution_count": 58,
   "metadata": {},
   "outputs": [
    {
     "data": {
      "text/plain": [
       "dict_keys(['fun', 'x', 'nit', 'nfev', 'success'])"
      ]
     },
     "execution_count": 58,
     "metadata": {},
     "output_type": "execute_result"
    }
   ],
   "source": [
    "result.keys()"
   ]
  },
  {
   "cell_type": "markdown",
   "metadata": {},
   "source": [
    "### Choosing Methods\n",
    "\n",
    "SciPy Optimize comes with three 1D methods\n",
    "\n",
    "* Brent\n",
    "* Golden\n",
    "* Bounded\n",
    "\n",
    "<b>Brent</b>'s method is the default, and it uses inverse quadratic interpolation. \n",
    "\n",
    "Both Brent's method and the Golden Method both rely on <i>brackets</i> or a set of three   numbers `a`,`b`,`c` such that `f(b)` is less than both `f(a)` and `f(c)`.  \n",
    "\n",
    "The bounded method instead uses <i>bounds</i>, which only has the two endpoints.  While brackets are optional for Brent's and Golden, initial bounds are required to start the Bounded Method.\n",
    "\n",
    "I include time profiling of the three methods, and you can see that even for a simple, straightforward function, Brent's method runs much faster with fewer iterations and function evaluations."
   ]
  },
  {
   "cell_type": "code",
   "execution_count": 132,
   "metadata": {},
   "outputs": [
    {
     "name": "stdout",
     "output_type": "stream",
     "text": [
      "125 µs ± 4.29 µs per loop (mean ± std. dev. of 7 runs, 10000 loops each)\n"
     ]
    },
    {
     "data": {
      "text/plain": [
       "     fun: -1.9390442217474881\n",
       "    nfev: 15\n",
       "     nit: 11\n",
       " success: True\n",
       "       x: -0.24382235612367698"
      ]
     },
     "execution_count": 132,
     "metadata": {},
     "output_type": "execute_result"
    }
   ],
   "source": [
    "%timeit optimize.minimize_scalar(f,method='Brent')\n",
    "optimize.minimize_scalar(f,method='Brent')"
   ]
  },
  {
   "cell_type": "code",
   "execution_count": 133,
   "metadata": {},
   "outputs": [
    {
     "name": "stdout",
     "output_type": "stream",
     "text": [
      "140 µs ± 2.52 µs per loop (mean ± std. dev. of 7 runs, 10000 loops each)\n"
     ]
    },
    {
     "data": {
      "text/plain": [
       "     fun: -1.9390442217474881\n",
       "    nfev: 46\n",
       "     nit: 41\n",
       " success: True\n",
       "       x: -0.2438223579554442"
      ]
     },
     "execution_count": 133,
     "metadata": {},
     "output_type": "execute_result"
    }
   ],
   "source": [
    "%timeit optimize.minimize_scalar(f,method='golden')\n",
    "optimize.minimize_scalar(f,method='golden')"
   ]
  },
  {
   "cell_type": "code",
   "execution_count": 134,
   "metadata": {},
   "outputs": [
    {
     "name": "stdout",
     "output_type": "stream",
     "text": [
      "206 µs ± 10.7 µs per loop (mean ± std. dev. of 7 runs, 1000 loops each)\n"
     ]
    },
    {
     "data": {
      "text/plain": [
       "     fun: -1.9390442216809054\n",
       " message: 'Solution found.'\n",
       "    nfev: 9\n",
       "  status: 0\n",
       " success: True\n",
       "       x: -0.24382363945219096"
      ]
     },
     "execution_count": 134,
     "metadata": {},
     "output_type": "execute_result"
    }
   ],
   "source": [
    "%timeit optimize.minimize_scalar(f,method='bounded',bounds=[-1,1])\n",
    "optimize.minimize_scalar(f,method='bounded',bounds=[-1,1])"
   ]
  },
  {
   "cell_type": "markdown",
   "metadata": {},
   "source": [
    "### Bracketing"
   ]
  },
  {
   "cell_type": "code",
   "execution_count": 55,
   "metadata": {},
   "outputs": [
    {
     "data": {
      "text/plain": [
       "     fun: -1.4514116620602204\n",
       "    nfev: 14\n",
       "     nit: 10\n",
       " success: True\n",
       "       x: 0.7314305452922458"
      ]
     },
     "execution_count": 55,
     "metadata": {},
     "output_type": "execute_result"
    }
   ],
   "source": [
    "# Use a bracket to choose which local minimum \n",
    "optimize.minimize_scalar(f,bracket=[0.25,1,2])"
   ]
  },
  {
   "cell_type": "markdown",
   "metadata": {},
   "source": [
    "### Flags \n",
    "\n",
    "The `args` variable flag passes additional parameters to the function.  "
   ]
  },
  {
   "cell_type": "code",
   "execution_count": 113,
   "metadata": {},
   "outputs": [
    {
     "data": {
      "text/plain": [
       "     fun: 4.930380657631324e-32\n",
       "    nfev: 9\n",
       "     nit: 4\n",
       " success: True\n",
       "       x: 1.9999999999999998"
      ]
     },
     "execution_count": 113,
     "metadata": {},
     "output_type": "execute_result"
    }
   ],
   "source": [
    "# 2 passes to g, controlling the minimum location\n",
    "# minimizing g(x,2)\n",
    "optimize.minimize_scalar(g, args=(2))"
   ]
  },
  {
   "cell_type": "markdown",
   "metadata": {},
   "source": [
    "### Options\n",
    "\n",
    "The maximum number of iterations `maxiter` or tolerance for x difference between successive steps `xtol` can be passed in a dictionary to the flag `options`.  \n",
    "\n",
    "While most 1D functions converge in a trivial amount of time, sometimes you may want manual control to avoid excessive resources or your problem requires extreme accuracy."
   ]
  },
  {
   "cell_type": "code",
   "execution_count": null,
   "metadata": {},
   "outputs": [],
   "source": []
  },
  {
   "cell_type": "code",
   "execution_count": 114,
   "metadata": {},
   "outputs": [
    {
     "data": {
      "text/plain": [
       "     fun: -0.0355339059327378\n",
       "    nfev: 19\n",
       "     nit: 13\n",
       " success: True\n",
       "       x: 2.4142135621371947"
      ]
     },
     "execution_count": 114,
     "metadata": {},
     "output_type": "execute_result"
    }
   ],
   "source": [
    "# The simple case\n",
    "optimize.minimize_scalar(h)"
   ]
  },
  {
   "cell_type": "code",
   "execution_count": 115,
   "metadata": {},
   "outputs": [
    {
     "data": {
      "text/plain": [
       "     fun: -0.03526620646182484\n",
       "    nfev: 10\n",
       "     nit: 4\n",
       " success: False\n",
       "       x: 2.4568626637256976"
      ]
     },
     "execution_count": 115,
     "metadata": {},
     "output_type": "execute_result"
    }
   ],
   "source": [
    "# Simple example to change maxiter\n",
    "optimize.minimize_scalar(h,options={'maxiter':4})"
   ]
  },
  {
   "cell_type": "code",
   "execution_count": 123,
   "metadata": {},
   "outputs": [
    {
     "data": {
      "text/plain": [
       "[<matplotlib.lines.Line2D at 0x7f352497fdd8>]"
      ]
     },
     "execution_count": 123,
     "metadata": {},
     "output_type": "execute_result"
    },
    {
     "data": {
      "image/png": "[encoded data removed]",
      "text/plain": [
       "<Figure size 432x288 with 1 Axes>"
      ]
     },
     "metadata": {
      "needs_background": "light"
     },
     "output_type": "display_data"
    }
   ],
   "source": [
    "n=np.arange(1,13)\n",
    "x_n=np.zeros(12)\n",
    "for ii in n:\n",
    "    result=optimize.minimize_scalar(h,options={'maxiter':ii})\n",
    "    x_n[ii-1]=result.x\n",
    "\n",
    "plt.plot(n,x_n)"
   ]
  },
  {
   "cell_type": "code",
   "execution_count": null,
   "metadata": {},
   "outputs": [],
   "source": []
  },
  {
   "cell_type": "code",
   "execution_count": 105,
   "metadata": {},
   "outputs": [
    {
     "data": {
      "text/plain": [
       "     fun: -0.03500252864128803\n",
       "    nfev: 9\n",
       "     nit: 3\n",
       " success: True\n",
       "       x: 2.35623059999"
      ]
     },
     "execution_count": 105,
     "metadata": {},
     "output_type": "execute_result"
    }
   ],
   "source": [
    "optimize.minimize_scalar(h,options={'xtol':.1})"
   ]
  },
  {
   "cell_type": "code",
   "execution_count": null,
   "metadata": {},
   "outputs": [],
   "source": []
  }
 ],
 "metadata": {
  "kernelspec": {
   "display_name": "Python 3",
   "language": "python",
   "name": "python3"
  },
  "language_info": {
   "codemirror_mode": {
    "name": "ipython",
    "version": 3
   },
   "file_extension": ".py",
   "mimetype": "text/x-python",
   "name": "python",
   "nbconvert_exporter": "python",
   "pygments_lexer": "ipython3",
   "version": "3.7.1"
  }
 },
 "nbformat": 4,
 "nbformat_minor": 2
}
