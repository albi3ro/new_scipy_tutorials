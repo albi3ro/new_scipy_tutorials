{
 "cells": [
  {
   "cell_type": "markdown",
   "metadata": {},
   "source": [
    "# SciPy `minimize_scalar`\n",
    "\n",
    "`scipy.optimize.minimize_scalar` determines the lowest value in a local neighborhood of a one-dimensional scalar-valued function.  \n",
    "\n",
    "$$\n",
    "\\text{min}_x f(x) \\qquad f : \\mathbb{R} \\rightarrow \\mathbb{R}\n",
    "$$\n",
    "\n",
    "[`scipy.optimize.minimize`](./Optimization_ND.ipynb) is a generalization for multidimensional scalar-valued functions.  The submodule also offers a series of global optimization routines, that work to find the lowest value on an entire range, instead of a local neighborhood. \n",
    "\n",
    "To use the function, you first need to import the `scipy.optimize` submodule.  SciPy works on top of NumPy, so we import that as well, and we use PyPlot to look at the data."
   ]
  },
  {
   "cell_type": "code",
   "execution_count": 2,
   "metadata": {},
   "outputs": [],
   "source": [
    "# Importing the packages\n",
    "from scipy import optimize\n",
    "import numpy as np\n",
    "import matplotlib.pyplot as plt"
   ]
  },
  {
   "cell_type": "markdown",
   "metadata": {},
   "source": [
    "<div id=\"test_function\" />\n",
    "\n",
    "## Test Function\n",
    "<hr/>\n",
    "\n",
    "For the example, we use the test function:\n",
    "$$\n",
    "f(x) = x^2\n",
    "$$\n",
    "which has a single minimum at $x=0$."
   ]
  },
  {
   "cell_type": "code",
   "execution_count": 3,
   "metadata": {},
   "outputs": [],
   "source": [
    "# An example function with many minimums\n",
    "f = lambda x: x**2"
   ]
  },
  {
   "cell_type": "markdown",
   "metadata": {},
   "source": [
    "We can visually look at this function to verify that this is indeed a local minimum."
   ]
  },
  {
   "cell_type": "code",
   "execution_count": 10,
   "metadata": {},
   "outputs": [
    {
     "data": {
      "text/plain": [
       "Text(0.5, 1.0, 'Test Functions')"
      ]
     },
     "execution_count": 10,
     "metadata": {},
     "output_type": "execute_result"
    },
    {
     "data": {
      "image/png": "[encoded data removed]",
      "text/plain": [
       "<Figure size 432x288 with 1 Axes>"
      ]
     },
     "metadata": {
      "needs_background": "light"
     },
     "output_type": "display_data"
    }
   ],
   "source": [
    "x = np.arange(-3,3,.01)\n",
    "plt.plot(x,f(x),label=\"f\") \n",
    "plt.legend()\n",
    "plt.title(\"Test Functions\")"
   ]
  },
  {
   "cell_type": "markdown",
   "metadata": {},
   "source": [
    "## Basic Usage\n",
    "<hr />\n",
    "\n",
    "At its simplest, `minimize_scalar` only requires the function."
   ]
  },
  {
   "cell_type": "code",
   "execution_count": 12,
   "metadata": {},
   "outputs": [
    {
     "name": "stdout",
     "output_type": "stream",
     "text": [
      "     fun: 0.0\n",
      "    nfev: 8\n",
      "     nit: 4\n",
      " success: True\n",
      "       x: 0.0\n"
     ]
    }
   ],
   "source": [
    "result = optimize.minimize_scalar(f)\n",
    "print(result)"
   ]
  },
  {
   "cell_type": "markdown",
   "metadata": {},
   "source": [
    "## Result\n",
    "<hr/>\n",
    "The function returns a special variable type based on a dictionary that can store more information. Individual components can be accessed by:"
   ]
  },
  {
   "cell_type": "code",
   "execution_count": 13,
   "metadata": {},
   "outputs": [
    {
     "data": {
      "text/plain": [
       "0.0"
      ]
     },
     "execution_count": 13,
     "metadata": {},
     "output_type": "execute_result"
    }
   ],
   "source": [
    "result.x"
   ]
  },
  {
   "cell_type": "markdown",
   "metadata": {},
   "source": [
    "Available components can be determined by calling:"
   ]
  },
  {
   "cell_type": "code",
   "execution_count": 14,
   "metadata": {},
   "outputs": [
    {
     "data": {
      "text/plain": [
       "dict_keys(['fun', 'x', 'nit', 'nfev', 'success'])"
      ]
     },
     "execution_count": 14,
     "metadata": {},
     "output_type": "execute_result"
    }
   ],
   "source": [
    "result.keys()"
   ]
  },
  {
   "cell_type": "markdown",
   "metadata": {},
   "source": [
    "## Args \n",
    "<hr>\n",
    "\n",
    "The `args` variable flag passes additional parameters via a tuple to the function.  \n",
    "\n",
    "In the example, I shift the minimum via a parameter `a`."
   ]
  },
  {
   "cell_type": "code",
   "execution_count": 21,
   "metadata": {},
   "outputs": [
    {
     "name": "stdout",
     "output_type": "stream",
     "text": [
      "     fun: 4.930380657631324e-32\n",
      "    nfev: 9\n",
      "     nit: 4\n",
      " success: True\n",
      "       x: 1.9999999999999998\n"
     ]
    }
   ],
   "source": [
    "# A function that uses a parameter\n",
    "f_parameter = lambda x , a : (x-a)**2\n",
    "\n",
    "result_parameter = optimize.minimize_scalar(f_parameter, args=(2,))\n",
    "print(result_parameter)"
   ]
  },
  {
   "cell_type": "markdown",
   "metadata": {},
   "source": [
    "## Choosing Methods\n",
    "<hr />\n",
    "\n",
    "SciPy Optimize comes with three 1D methods:\n",
    "\n",
    "* Brent\n",
    "* Golden\n",
    "* Bounded\n",
    "\n",
    "<b>Brent</b>'s method is the default, and it uses inverse quadratic interpolation. \n",
    "\n",
    "Both Brent's method and the Golden Method both rely on <i>brackets</i> or a set of three   numbers `a`,`b`,`c` such that `f(b)` is less than both `f(a)` and `f(c)`.  \n",
    "\n",
    "The bounded method instead uses <i>bounds</i>, which only has the two endpoints.  While brackets are optional for Brent's and Golden, initial bounds are required to start the Bounded Method."
   ]
  },
  {
   "cell_type": "code",
   "execution_count": 16,
   "metadata": {},
   "outputs": [
    {
     "name": "stdout",
     "output_type": "stream",
     "text": [
      "     fun: 0.0\n",
      "    nfev: 8\n",
      "     nit: 4\n",
      " success: True\n",
      "       x: 0.0\n"
     ]
    }
   ],
   "source": [
    "result_Brent = optimize.minimize_scalar(f,method='Brent')\n",
    "print(result_Brent)"
   ]
  },
  {
   "cell_type": "code",
   "execution_count": 17,
   "metadata": {},
   "outputs": [
    {
     "name": "stdout",
     "output_type": "stream",
     "text": [
      "     fun: 0.0\n",
      "    nfev: 818\n",
      "     nit: 813\n",
      " success: True\n",
      "       x: 1.5717277788484873e-162\n"
     ]
    }
   ],
   "source": [
    "result_golden = optimize.minimize_scalar(f,method='golden')\n",
    "print(result_golden)"
   ]
  },
  {
   "cell_type": "code",
   "execution_count": 18,
   "metadata": {},
   "outputs": [
    {
     "name": "stdout",
     "output_type": "stream",
     "text": [
      "     fun: 7.703719777548943e-34\n",
      " message: 'Solution found.'\n",
      "    nfev: 6\n",
      "  status: 0\n",
      " success: True\n",
      "       x: -2.7755575615628914e-17\n"
     ]
    }
   ],
   "source": [
    "result_bounded = optimize.minimize_scalar(f,method='bounded',bounds=[-1,1])\n",
    "print(result_bounded)"
   ]
  },
  {
   "cell_type": "markdown",
   "metadata": {},
   "source": [
    "## Options\n",
    "<hr>\n",
    "\n",
    "The maximum number of iterations `maxiter` can be passed in a dictionary to the flag `options`.  While most 1D functions converge in a trivial amount of time, sometimes, you may want manual control to avoid excessive resources.\n",
    "\n",
    "Here's an example for changing the maximum number of iterations:"
   ]
  },
  {
   "cell_type": "code",
   "execution_count": 36,
   "metadata": {},
   "outputs": [
    {
     "name": "stdout",
     "output_type": "stream",
     "text": [
      "     fun: 0.0\n",
      "    nfev: 7\n",
      "     nit: 3\n",
      " success: False\n",
      "       x: 0.0\n"
     ]
    }
   ],
   "source": [
    "result_maxiter = optimize.minimize_scalar(f,options={'maxiter':3})\n",
    "print(result_maxiter)"
   ]
  },
  {
   "cell_type": "code",
   "execution_count": null,
   "metadata": {},
   "outputs": [],
   "source": []
  }
 ],
 "metadata": {
  "kernelspec": {
   "display_name": "Python 3",
   "language": "python",
   "name": "python3"
  },
  "language_info": {
   "codemirror_mode": {
    "name": "ipython",
    "version": 3
   },
   "file_extension": ".py",
   "mimetype": "text/x-python",
   "name": "python",
   "nbconvert_exporter": "python",
   "pygments_lexer": "ipython3",
   "version": "3.7.4"
  }
 },
 "nbformat": 4,
 "nbformat_minor": 4
}
